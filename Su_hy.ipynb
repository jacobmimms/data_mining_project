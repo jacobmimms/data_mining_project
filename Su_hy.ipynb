{
 "cells": [
  {
   "cell_type": "code",
   "execution_count": null,
   "metadata": {},
   "outputs": [],
   "source": [
    "import pandas as pd\n",
    "import numpy as np\n",
    "import urllib.request\n",
    "import json\n",
    "import textwrap\n",
    "import time"
   ]
  },
  {
   "attachments": {},
   "cell_type": "markdown",
   "metadata": {},
   "source": [
    "### Preprocess dataset\n",
    "1. Read in\n",
    "2. Clean"
   ]
  },
  {
   "cell_type": "code",
   "execution_count": null,
   "metadata": {},
   "outputs": [],
   "source": [
    "Books = pd.read_csv('./Data/BX-Books.csv', sep = ';', on_bad_lines='skip', encoding = 'latin-1')\n",
    "Users = pd.read_csv('./Data/BX-Users.csv', sep = ';', on_bad_lines='skip', encoding = 'latin-1')\n",
    "Book_Ratings = pd.read_csv('./Data/BX-Book-Ratings.csv', sep = ';', on_bad_lines='skip', encoding = 'latin-1')"
   ]
  },
  {
   "attachments": {},
   "cell_type": "markdown",
   "metadata": {},
   "source": [
    "### Get Books' Summary using GOOGLE BOOK API"
   ]
  },
  {
   "cell_type": "code",
   "execution_count": null,
   "metadata": {},
   "outputs": [],
   "source": [
    "# new dataset\n",
    "Book_Summary = pd.DataFrame(Books['ISBN'], columns=['ISBN'])\n",
    "Book_Summary['Summary'] = \"\""
   ]
  },
  {
   "cell_type": "code",
   "execution_count": null,
   "metadata": {},
   "outputs": [],
   "source": [
    "# get summary for every book\n",
    "idx = 0\n",
    "for isbn_number in Books['ISBN']:\n",
    "  base_api_link = \"https://www.googleapis.com/books/v1/volumes?q=isbn:\"\n",
    "  user_input = isbn_number\n",
    "  if idx == 15:\n",
    "      idx = 0\n",
    "      time.sleep(10)\n",
    "  else:\n",
    "      idx = idx+1\n",
    "  with urllib.request.urlopen(base_api_link + user_input) as f:\n",
    "      text = f.read()\n",
    "  decoded_text = text.decode(\"utf-8\")\n",
    "  obj = json.loads(decoded_text)\n",
    "  if len(obj)<3:\n",
    "      continue\n",
    "  else:\n",
    "      volume_info = obj[\"items\"][0][\"volumeInfo\"]\n",
    "      if 'description' in volume_info:\n",
    "          Book_Summary.loc[Book_Summary['ISBN'] == isbn_number, 'Summary'] = volume_info[\"description\"]"
   ]
  }
 ],
 "metadata": {
  "kernelspec": {
   "display_name": "Python 3",
   "language": "python",
   "name": "python3"
  },
  "language_info": {
   "codemirror_mode": {
    "name": "ipython",
    "version": 3
   },
   "file_extension": ".py",
   "mimetype": "text/x-python",
   "name": "python",
   "nbconvert_exporter": "python",
   "pygments_lexer": "ipython3",
   "version": "3.10.2"
  },
  "orig_nbformat": 4
 },
 "nbformat": 4,
 "nbformat_minor": 2
}
