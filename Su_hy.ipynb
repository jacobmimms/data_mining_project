{
 "cells": [
  {
   "cell_type": "code",
   "execution_count": 2,
   "metadata": {},
   "outputs": [],
   "source": [
    "import pandas as pd\n",
    "import numpy as np\n",
    "import urllib.request\n",
    "import json\n",
    "import textwrap"
   ]
  },
  {
   "attachments": {},
   "cell_type": "markdown",
   "metadata": {},
   "source": [
    "### Preprocess dataset\n",
    "1. Read in\n",
    "2. Clean"
   ]
  },
  {
   "cell_type": "code",
   "execution_count": 3,
   "metadata": {},
   "outputs": [
    {
     "name": "stderr",
     "output_type": "stream",
     "text": [
      "C:\\Users\\Su_hy\\AppData\\Local\\Temp\\ipykernel_2504\\3662398146.py:1: DtypeWarning: Columns (3) have mixed types. Specify dtype option on import or set low_memory=False.\n",
      "  Books = pd.read_csv('./Data/BX-Books.csv', sep = ';', on_bad_lines='skip', encoding = 'latin-1')\n"
     ]
    }
   ],
   "source": [
    "Books = pd.read_csv('./Data/BX-Books.csv', sep = ';', on_bad_lines='skip', encoding = 'latin-1')\n",
    "Users = pd.read_csv('./Data/BX-Users.csv', sep = ';', on_bad_lines='skip', encoding = 'latin-1')\n",
    "Book_Ratings = pd.read_csv('./Data/BX-Book-Ratings.csv', sep = ';', on_bad_lines='skip', encoding = 'latin-1')"
   ]
  },
  {
   "cell_type": "code",
   "execution_count": null,
   "metadata": {},
   "outputs": [],
   "source": [
    "Books.iloc[0,0]"
   ]
  },
  {
   "attachments": {},
   "cell_type": "markdown",
   "metadata": {},
   "source": [
    "### Get Books' Summary using GOOGLE BOOK API"
   ]
  },
  {
   "cell_type": "code",
   "execution_count": null,
   "metadata": {},
   "outputs": [],
   "source": [
    "# new dataset\n",
    "Book_Summary = pd.DataFrame(Books['ISBN'], columns=['ISBN'])\n",
    "Book_Summary['Summary'] = \"\""
   ]
  },
  {
   "cell_type": "code",
   "execution_count": null,
   "metadata": {},
   "outputs": [],
   "source": [
    "Book_Summary"
   ]
  },
  {
   "cell_type": "code",
   "execution_count": null,
   "metadata": {},
   "outputs": [],
   "source": [
    "Book_Summary.loc[Book_Summary['ISBN'] == \"0195153448\", 'Summary']"
   ]
  },
  {
   "cell_type": "code",
   "execution_count": null,
   "metadata": {},
   "outputs": [],
   "source": [
    "# get summary for every book\n",
    "for isbn_number in Books['ISBN']:\n",
    "  base_api_link = \"https://www.googleapis.com/books/v1/volumes?q=isbn:\"\n",
    "  user_input = isbn_number\n",
    "  with urllib.request.urlopen(base_api_link + user_input) as f:\n",
    "      text = f.read()\n",
    "  decoded_text = text.decode(\"utf-8\")\n",
    "  obj = json.loads(decoded_text)\n",
    "  if len(obj)<3:\n",
    "      continue\n",
    "  else:\n",
    "      # print(obj)\n",
    "      volume_info = obj[\"items\"][0] \n",
    "      authors = obj[\"items\"][0][\"volumeInfo\"][\"authors\"]\n",
    "      if hasattr(volume_info, \"searchInfo\"):\n",
    "          Book_Summary.loc[Book_Summary['ISBN'] == isbn_number, 'Summary'] = volume_info[\"searchInfo\"][\"textSnippet\"]"
   ]
  }
 ],
 "metadata": {
  "kernelspec": {
   "display_name": "Python 3",
   "language": "python",
   "name": "python3"
  },
  "language_info": {
   "codemirror_mode": {
    "name": "ipython",
    "version": 3
   },
   "file_extension": ".py",
   "mimetype": "text/x-python",
   "name": "python",
   "nbconvert_exporter": "python",
   "pygments_lexer": "ipython3",
   "version": "3.10.2"
  },
  "orig_nbformat": 4
 },
 "nbformat": 4,
 "nbformat_minor": 2
}
