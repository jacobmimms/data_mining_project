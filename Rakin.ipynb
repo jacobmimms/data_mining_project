{
 "cells": [
  {
   "attachments": {},
   "cell_type": "markdown",
   "metadata": {},
   "source": [
    "# Getting started\n",
    "This notebook is for me, Rakin, just to analyze the data. I avoided creating a .py file for this because I wanted to be able to use the notebook to write my thoughts and ideas. I will try to keep this notebook as clean as possible for anyone to jump in add their ideas to the project."
   ]
  },
  {
   "attachments": {},
   "cell_type": "markdown",
   "metadata": {},
   "source": [
    "## Readin the data \n",
    "Here the Data will be stored in Pandas checked for outliers, strange values etc before starting the preprocessing"
   ]
  },
  {
   "cell_type": "code",
   "execution_count": 1,
   "metadata": {},
   "outputs": [
    {
     "name": "stdout",
     "output_type": "stream",
     "text": [
      "Reading Books Data...\n"
     ]
    },
    {
     "name": "stderr",
     "output_type": "stream",
     "text": [
      "C:\\Users\\rakin\\AppData\\Local\\Temp\\ipykernel_18744\\61743356.py:13: DtypeWarning: Columns (3) have mixed types. Specify dtype option on import or set low_memory=False.\n",
      "  books_data = pd.read_csv(\"Data/BX-Books.csv\", sep=';', on_bad_lines='skip', encoding=\"latin\")\n"
     ]
    },
    {
     "name": "stdout",
     "output_type": "stream",
     "text": [
      "Readting Users Data...\n",
      "Reading Ratings Data...\n",
      "Done!\n"
     ]
    }
   ],
   "source": [
    "# Imports\n",
    "import pandas as pd\n",
    "import numpy as np\n",
    "import matplotlib.pyplot as plt\n",
    "import seaborn as sns\n",
    "import os\n",
    "import sys\n",
    "import random\n",
    "import math\n",
    "\n",
    "# Convert the Data CSV files to pandas\n",
    "print(\"Reading Books Data...\")\n",
    "books_data = pd.read_csv(\"Data/BX-Books.csv\", sep=';', on_bad_lines='skip', encoding=\"latin\")\n",
    "print(\"Readting Users Data...\")\n",
    "users_data = pd.read_csv(\"Data/BX-Users.csv\", sep=';', on_bad_lines='skip', encoding=\"latin\")\n",
    "print(\"Reading Ratings Data...\")\n",
    "ratings_data = pd.read_csv(\"Data/BX-Book-Ratings.csv\", sep=';', on_bad_lines='skip', encoding=\"latin\")\n",
    "print(\"Done!\")"
   ]
  },
  {
   "attachments": {},
   "cell_type": "markdown",
   "metadata": {},
   "source": [
    "### Understanding the data\n",
    "I found out that column three has mixed types in books_data. This is the column \"Book-Author\". This is explored below"
   ]
  },
  {
   "cell_type": "code",
   "execution_count": 4,
   "metadata": {},
   "outputs": [
    {
     "name": "stdout",
     "output_type": "stream",
     "text": [
      "The following has mixed types.\n",
      "Book-Author\n",
      "Year-Of-Publication\n",
      "Publisher\n",
      "Image-URL-L\n",
      "Done!\n"
     ]
    }
   ],
   "source": [
    "# Find out which columns have mixed types\n",
    "print(\"The following has mixed types.\")\n",
    "for col in books_data.columns:\n",
    "    weird = (books_data[[col]].applymap(type) != books_data[[col]].iloc[0].apply(type)).any(axis=1)\n",
    "    if len (books_data[weird]) > 0:\n",
    "        print(col)\n",
    "print(\"Done!\")\n"
   ]
  },
  {
   "cell_type": "code",
   "execution_count": null,
   "metadata": {},
   "outputs": [],
   "source": [
    "# Look"
   ]
  }
 ],
 "metadata": {
  "kernelspec": {
   "display_name": "Python 3",
   "language": "python",
   "name": "python3"
  },
  "language_info": {
   "codemirror_mode": {
    "name": "ipython",
    "version": 3
   },
   "file_extension": ".py",
   "mimetype": "text/x-python",
   "name": "python",
   "nbconvert_exporter": "python",
   "pygments_lexer": "ipython3",
   "version": "3.10.11"
  },
  "orig_nbformat": 4
 },
 "nbformat": 4,
 "nbformat_minor": 2
}
