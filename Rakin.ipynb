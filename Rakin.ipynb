{
 "cells": [
  {
   "attachments": {},
   "cell_type": "markdown",
   "metadata": {},
   "source": [
    "# Getting started\n",
    "This notebook is for me, Rakin, just to analyze the data. I avoided creating a .py file for this because I wanted to be able to use the notebook to write my thoughts and ideas. I will try to keep this notebook as clean as possible for anyone to jump in add their ideas to the project."
   ]
  },
  {
   "attachments": {},
   "cell_type": "markdown",
   "metadata": {},
   "source": [
    "## Read & Clean the data \n",
    "Here the Data will be stored in Pandas checked for outliers, strange values etc before starting the preprocessing"
   ]
  },
  {
   "cell_type": "code",
   "execution_count": 9,
   "metadata": {},
   "outputs": [
    {
     "name": "stdout",
     "output_type": "stream",
     "text": [
      "Reading Books Data...\n"
     ]
    },
    {
     "name": "stderr",
     "output_type": "stream",
     "text": [
      "C:\\Users\\Su_hy\\AppData\\Local\\Temp\\ipykernel_8492\\2061495875.py:13: DtypeWarning: Columns (3) have mixed types. Specify dtype option on import or set low_memory=False.\n",
      "  books_data = pd.read_csv(\"Data/BX-Books.csv\", sep=';', on_bad_lines='skip', encoding=\"latin\")\n"
     ]
    },
    {
     "name": "stdout",
     "output_type": "stream",
     "text": [
      "Readting Users Data...\n",
      "Reading Ratings Data...\n",
      "Done!\n"
     ]
    }
   ],
   "source": [
    "# Imports\n",
    "import pandas as pd\n",
    "import numpy as np\n",
    "import matplotlib.pyplot as plt\n",
    "import seaborn as sns\n",
    "import os\n",
    "import sys\n",
    "import random\n",
    "import math\n",
    "\n",
    "# Convert the Data CSV files to pandas\n",
    "print(\"Reading Books Data...\")\n",
    "books_data = pd.read_csv(\"Data/BX-Books.csv\", sep=';', on_bad_lines='skip', encoding=\"latin\")\n",
    "print(\"Readting Users Data...\")\n",
    "users_data = pd.read_csv(\"Data/BX-Users.csv\", sep=';', on_bad_lines='skip', encoding=\"latin\")\n",
    "print(\"Reading Ratings Data...\")\n",
    "Book_Ratings = pd.read_csv(\"Data/BX-Book-Ratings.csv\", sep=';', on_bad_lines='skip', encoding=\"latin\")\n",
    "print(\"Done!\")"
   ]
  },
  {
   "cell_type": "code",
   "execution_count": 12,
   "metadata": {},
   "outputs": [
    {
     "data": {
      "text/html": [
       "<div>\n",
       "<style scoped>\n",
       "    .dataframe tbody tr th:only-of-type {\n",
       "        vertical-align: middle;\n",
       "    }\n",
       "\n",
       "    .dataframe tbody tr th {\n",
       "        vertical-align: top;\n",
       "    }\n",
       "\n",
       "    .dataframe thead th {\n",
       "        text-align: right;\n",
       "    }\n",
       "</style>\n",
       "<table border=\"1\" class=\"dataframe\">\n",
       "  <thead>\n",
       "    <tr style=\"text-align: right;\">\n",
       "      <th></th>\n",
       "      <th>User-ID</th>\n",
       "      <th>ISBN</th>\n",
       "      <th>Book-Rating</th>\n",
       "    </tr>\n",
       "  </thead>\n",
       "  <tbody>\n",
       "    <tr>\n",
       "      <th>0</th>\n",
       "      <td>276725</td>\n",
       "      <td>034545104X</td>\n",
       "      <td>0</td>\n",
       "    </tr>\n",
       "    <tr>\n",
       "      <th>1</th>\n",
       "      <td>276726</td>\n",
       "      <td>0155061224</td>\n",
       "      <td>5</td>\n",
       "    </tr>\n",
       "    <tr>\n",
       "      <th>2</th>\n",
       "      <td>276727</td>\n",
       "      <td>0446520802</td>\n",
       "      <td>0</td>\n",
       "    </tr>\n",
       "    <tr>\n",
       "      <th>3</th>\n",
       "      <td>276729</td>\n",
       "      <td>052165615X</td>\n",
       "      <td>3</td>\n",
       "    </tr>\n",
       "    <tr>\n",
       "      <th>4</th>\n",
       "      <td>276729</td>\n",
       "      <td>0521795028</td>\n",
       "      <td>6</td>\n",
       "    </tr>\n",
       "    <tr>\n",
       "      <th>...</th>\n",
       "      <td>...</td>\n",
       "      <td>...</td>\n",
       "      <td>...</td>\n",
       "    </tr>\n",
       "    <tr>\n",
       "      <th>1149775</th>\n",
       "      <td>276704</td>\n",
       "      <td>1563526298</td>\n",
       "      <td>9</td>\n",
       "    </tr>\n",
       "    <tr>\n",
       "      <th>1149776</th>\n",
       "      <td>276706</td>\n",
       "      <td>0679447156</td>\n",
       "      <td>0</td>\n",
       "    </tr>\n",
       "    <tr>\n",
       "      <th>1149777</th>\n",
       "      <td>276709</td>\n",
       "      <td>0515107662</td>\n",
       "      <td>10</td>\n",
       "    </tr>\n",
       "    <tr>\n",
       "      <th>1149778</th>\n",
       "      <td>276721</td>\n",
       "      <td>0590442449</td>\n",
       "      <td>10</td>\n",
       "    </tr>\n",
       "    <tr>\n",
       "      <th>1149779</th>\n",
       "      <td>276723</td>\n",
       "      <td>05162443314</td>\n",
       "      <td>8</td>\n",
       "    </tr>\n",
       "  </tbody>\n",
       "</table>\n",
       "<p>1149780 rows × 3 columns</p>\n",
       "</div>"
      ],
      "text/plain": [
       "         User-ID         ISBN  Book-Rating\n",
       "0         276725   034545104X            0\n",
       "1         276726   0155061224            5\n",
       "2         276727   0446520802            0\n",
       "3         276729   052165615X            3\n",
       "4         276729   0521795028            6\n",
       "...          ...          ...          ...\n",
       "1149775   276704   1563526298            9\n",
       "1149776   276706   0679447156            0\n",
       "1149777   276709   0515107662           10\n",
       "1149778   276721   0590442449           10\n",
       "1149779   276723  05162443314            8\n",
       "\n",
       "[1149780 rows x 3 columns]"
      ]
     },
     "execution_count": 12,
     "metadata": {},
     "output_type": "execute_result"
    }
   ],
   "source": [
    "Book_Ratings"
   ]
  },
  {
   "cell_type": "code",
   "execution_count": 13,
   "metadata": {},
   "outputs": [
    {
     "data": {
      "text/html": [
       "<div>\n",
       "<style scoped>\n",
       "    .dataframe tbody tr th:only-of-type {\n",
       "        vertical-align: middle;\n",
       "    }\n",
       "\n",
       "    .dataframe tbody tr th {\n",
       "        vertical-align: top;\n",
       "    }\n",
       "\n",
       "    .dataframe thead th {\n",
       "        text-align: right;\n",
       "    }\n",
       "</style>\n",
       "<table border=\"1\" class=\"dataframe\">\n",
       "  <thead>\n",
       "    <tr style=\"text-align: right;\">\n",
       "      <th></th>\n",
       "      <th>User-ID</th>\n",
       "      <th>ISBN</th>\n",
       "      <th>Book-Rating</th>\n",
       "    </tr>\n",
       "  </thead>\n",
       "  <tbody>\n",
       "    <tr>\n",
       "      <th>0</th>\n",
       "      <td>276725</td>\n",
       "      <td>034545104X</td>\n",
       "      <td>0</td>\n",
       "    </tr>\n",
       "    <tr>\n",
       "      <th>2</th>\n",
       "      <td>276727</td>\n",
       "      <td>0446520802</td>\n",
       "      <td>0</td>\n",
       "    </tr>\n",
       "    <tr>\n",
       "      <th>5</th>\n",
       "      <td>276733</td>\n",
       "      <td>2080674722</td>\n",
       "      <td>0</td>\n",
       "    </tr>\n",
       "    <tr>\n",
       "      <th>10</th>\n",
       "      <td>276746</td>\n",
       "      <td>0425115801</td>\n",
       "      <td>0</td>\n",
       "    </tr>\n",
       "    <tr>\n",
       "      <th>11</th>\n",
       "      <td>276746</td>\n",
       "      <td>0449006522</td>\n",
       "      <td>0</td>\n",
       "    </tr>\n",
       "    <tr>\n",
       "      <th>...</th>\n",
       "      <td>...</td>\n",
       "      <td>...</td>\n",
       "      <td>...</td>\n",
       "    </tr>\n",
       "    <tr>\n",
       "      <th>1149769</th>\n",
       "      <td>276704</td>\n",
       "      <td>059032120X</td>\n",
       "      <td>0</td>\n",
       "    </tr>\n",
       "    <tr>\n",
       "      <th>1149770</th>\n",
       "      <td>276704</td>\n",
       "      <td>0679752714</td>\n",
       "      <td>0</td>\n",
       "    </tr>\n",
       "    <tr>\n",
       "      <th>1149772</th>\n",
       "      <td>276704</td>\n",
       "      <td>080410526X</td>\n",
       "      <td>0</td>\n",
       "    </tr>\n",
       "    <tr>\n",
       "      <th>1149774</th>\n",
       "      <td>276704</td>\n",
       "      <td>0876044011</td>\n",
       "      <td>0</td>\n",
       "    </tr>\n",
       "    <tr>\n",
       "      <th>1149776</th>\n",
       "      <td>276706</td>\n",
       "      <td>0679447156</td>\n",
       "      <td>0</td>\n",
       "    </tr>\n",
       "  </tbody>\n",
       "</table>\n",
       "<p>716109 rows × 3 columns</p>\n",
       "</div>"
      ],
      "text/plain": [
       "         User-ID        ISBN  Book-Rating\n",
       "0         276725  034545104X            0\n",
       "2         276727  0446520802            0\n",
       "5         276733  2080674722            0\n",
       "10        276746  0425115801            0\n",
       "11        276746  0449006522            0\n",
       "...          ...         ...          ...\n",
       "1149769   276704  059032120X            0\n",
       "1149770   276704  0679752714            0\n",
       "1149772   276704  080410526X            0\n",
       "1149774   276704  0876044011            0\n",
       "1149776   276706  0679447156            0\n",
       "\n",
       "[716109 rows x 3 columns]"
      ]
     },
     "execution_count": 13,
     "metadata": {},
     "output_type": "execute_result"
    }
   ],
   "source": [
    "Book_Ratings[Book_Ratings['Book-Rating']==0]"
   ]
  },
  {
   "attachments": {},
   "cell_type": "markdown",
   "metadata": {},
   "source": [
    "### Finding which columns needs to be cleaned\n",
    "I found out that columns has mixed types in books_data. This is explored below"
   ]
  },
  {
   "cell_type": "code",
   "execution_count": 2,
   "metadata": {},
   "outputs": [
    {
     "name": "stdout",
     "output_type": "stream",
     "text": [
      "The following has mixed types.\n",
      "Book-Author\n",
      "Year-Of-Publication\n",
      "Publisher\n",
      "Image-URL-L\n"
     ]
    }
   ],
   "source": [
    "# Find out which columns have mixed types\n",
    "print(\"The following has mixed types.\")\n",
    "for col in books_data.columns:\n",
    "    weird = (books_data[[col]].applymap(type) != books_data[[col]].iloc[0].apply(type)).any(axis=1)\n",
    "    if len (books_data[weird]) > 0:\n",
    "        print(col)\n"
   ]
  },
  {
   "cell_type": "code",
   "execution_count": 3,
   "metadata": {},
   "outputs": [
    {
     "name": "stdout",
     "output_type": "stream",
     "text": [
      "Looking for rows with mixed types in Book-Author then printing them.\n",
      "              ISBN                                         Book-Title  \\\n",
      "187689  9627982032  The Credit Suisse Guide to Managing Your Perso...   \n",
      "\n",
      "       Book-Author Year-Of-Publication                       Publisher  \\\n",
      "187689         NaN                1995  Edinburgh Financial Publishing   \n",
      "\n",
      "                                              Image-URL-S  \\\n",
      "187689  http://images.amazon.com/images/P/9627982032.0...   \n",
      "\n",
      "                                              Image-URL-M  \\\n",
      "187689  http://images.amazon.com/images/P/9627982032.0...   \n",
      "\n",
      "                                              Image-URL-L  \n",
      "187689  http://images.amazon.com/images/P/9627982032.0...  \n",
      "Done!\n"
     ]
    }
   ],
   "source": [
    "# Looking at the mixed types at Book-Author\n",
    "print(\"Looking for rows with mixed types in Book-Author then printing them.\")\n",
    "weird = (books_data[['Book-Author']].applymap(type) != books_data[['Book-Author']].iloc[0].apply(type)).any(axis=1)\n",
    "print(books_data[weird])\n",
    "print(\"Done!\")\n",
    "\n",
    "# Convert Nan to string value valled \"Unknown\"\n",
    "books_data['Book-Author'] = books_data['Book-Author'].fillna('Unknown')\n",
    "\n",
    "#Convert the column Book-Author to have the type String\n",
    "books_data['Book-Author'] = books_data['Book-Author'].astype(str)"
   ]
  },
  {
   "attachments": {},
   "cell_type": "markdown",
   "metadata": {},
   "source": [
    "### Cleaning Publication columns"
   ]
  },
  {
   "cell_type": "code",
   "execution_count": 4,
   "metadata": {},
   "outputs": [
    {
     "name": "stdout",
     "output_type": "stream",
     "text": [
      "Find string values in column Year-Of-Publication and replace them with 0.\n",
      "How many rows have 0 in Year-Of-Publication?\n",
      "3573\n",
      "Convert the Year-Of-Publication column to int.\n",
      "Done!\n"
     ]
    }
   ],
   "source": [
    "# Clean the year of publication column\n",
    "print(\"Find string values in column Year-Of-Publication and replace them with 0.\")\n",
    "books_data['Year-Of-Publication'] = books_data['Year-Of-Publication'].replace(['DK Publishing Inc', 'Gallimard'], 0)\n",
    "print(\"How many rows have 0 in Year-Of-Publication?\")\n",
    "print(books_data[books_data['Year-Of-Publication'] == 0].shape[0])\n",
    "\n",
    "# Convert the Year-Of-Publication column to int\n",
    "print(\"Convert the Year-Of-Publication column to int.\")\n",
    "books_data['Year-Of-Publication'].astype(int)\n",
    "print(\"Done!\")\n"
   ]
  },
  {
   "cell_type": "code",
   "execution_count": 5,
   "metadata": {},
   "outputs": [
    {
     "name": "stdout",
     "output_type": "stream",
     "text": [
      "Looking for rows with mixed types in Publisher then printing them.\n",
      "Empty DataFrame\n",
      "Columns: [ISBN, Book-Title, Book-Author, Year-Of-Publication, Publisher, Image-URL-S, Image-URL-M, Image-URL-L]\n",
      "Index: []\n",
      "Done!\n"
     ]
    }
   ],
   "source": [
    "# Find the mixed types in the column Publisher\n",
    "\n",
    "# Convert Nan to string value valled \"Unknown\"\n",
    "books_data['Publisher'] = books_data['Publisher'].fillna('Unknown')\n",
    "\n",
    "# Look at the mixed types in the column Publisher\n",
    "print(\"Looking for rows with mixed types in Publisher then printing them.\")\n",
    "weird = (books_data[['Publisher']].applymap(type) != books_data[['Publisher']].iloc[0].apply(type)).any(axis=1)\n",
    "print(books_data[weird])\n",
    "\n",
    "# Convert the Publisher column to have the type String\n",
    "books_data['Publisher'] = books_data['Publisher'].astype(str)\n",
    "print(\"Done!\")\n"
   ]
  },
  {
   "attachments": {},
   "cell_type": "markdown",
   "metadata": {},
   "source": [
    "### Cleaning image_url columns"
   ]
  },
  {
   "cell_type": "code",
   "execution_count": 6,
   "metadata": {},
   "outputs": [
    {
     "name": "stdout",
     "output_type": "stream",
     "text": [
      "Looking for rows with mixed types in Image-URL-L then printing them.\n",
      "Empty DataFrame\n",
      "Columns: [ISBN, Book-Title, Book-Author, Year-Of-Publication, Publisher, Image-URL-S, Image-URL-M, Image-URL-L]\n",
      "Index: []\n",
      "Done!\n"
     ]
    }
   ],
   "source": [
    "# Convert Nan to string value valled \"Unknown\" in Image-URL-L\n",
    "books_data['Image-URL-L'] = books_data['Image-URL-L'].fillna('Unknown')\n",
    "\n",
    "# Look for mixed types in Image-URL-L\n",
    "print(\"Looking for rows with mixed types in Image-URL-L then printing them.\")\n",
    "weird = (books_data[['Image-URL-L']].applymap(type) != books_data[['Image-URL-L']].iloc[0].apply(type)).any(axis=1)\n",
    "print(books_data[weird])\n",
    "\n",
    "# Convert the column Image-URL-L to have the type String\n",
    "books_data['Image-URL-L'] = books_data['Image-URL-L'].astype(str)\n",
    "print(\"Done!\")\n"
   ]
  },
  {
   "attachments": {},
   "cell_type": "markdown",
   "metadata": {},
   "source": [
    "### Checking if everything is now correct in the books_data"
   ]
  },
  {
   "cell_type": "code",
   "execution_count": 7,
   "metadata": {},
   "outputs": [
    {
     "name": "stdout",
     "output_type": "stream",
     "text": [
      "Objects to other types...\n",
      "Done!\n"
     ]
    },
    {
     "data": {
      "text/plain": [
       "ISBN                   string\n",
       "Book-Title             string\n",
       "Book-Author            string\n",
       "Year-Of-Publication     int32\n",
       "Publisher              string\n",
       "Image-URL-S            string\n",
       "Image-URL-M            string\n",
       "Image-URL-L            string\n",
       "dtype: object"
      ]
     },
     "execution_count": 7,
     "metadata": {},
     "output_type": "execute_result"
    }
   ],
   "source": [
    "books_data.dtypes\n",
    "# Find out which columns have mixed types\n",
    "# Convert ISBN to int\n",
    "print(\"Objects to other types...\")\n",
    "books_data['ISBN'] = books_data['ISBN'].astype('string')\n",
    "books_data['Book-Title'] = books_data['ISBN'].astype('string')\n",
    "books_data['Book-Author'] = books_data['ISBN'].astype('string''')\n",
    "books_data['Publisher'] = books_data['ISBN'].astype('string')\n",
    "books_data['Year-Of-Publication'] = books_data['Year-Of-Publication'].astype(int)\n",
    "books_data['Image-URL-S'] = books_data['ISBN'].astype('string')\n",
    "books_data['Image-URL-M'] = books_data['ISBN'].astype('string')\n",
    "books_data['Image-URL-L'] = books_data['ISBN'].astype('string')\n",
    "print(\"Done!\")\n",
    "\n",
    "books_data.dtypes\n"
   ]
  },
  {
   "cell_type": "code",
   "execution_count": 8,
   "metadata": {},
   "outputs": [
    {
     "name": "stdout",
     "output_type": "stream",
     "text": [
      "Looking for rows with mixed types in users_data then printing them.\n",
      "Empty DataFrame\n",
      "Columns: [User-ID, Location, Age]\n",
      "Index: []\n",
      "Looking for rows with mixed types in books_data then printing them.\n",
      "Empty DataFrame\n",
      "Columns: [ISBN, Book-Title, Book-Author, Year-Of-Publication, Publisher, Image-URL-S, Image-URL-M, Image-URL-L]\n",
      "Index: []\n",
      "Looking for rows with mixed types in books_data then printing them.\n",
      "Empty DataFrame\n",
      "Columns: [ISBN, Book-Title, Book-Author, Year-Of-Publication, Publisher, Image-URL-S, Image-URL-M, Image-URL-L]\n",
      "Index: []\n"
     ]
    }
   ],
   "source": [
    "# Look for mixed types in users_data and books_data\n",
    "print(\"Looking for rows with mixed types in users_data then printing them.\")\n",
    "weird = (users_data[['User-ID']].applymap(type) != users_data[['User-ID']].iloc[0].apply(type)).any(axis=1)\n",
    "print(users_data[weird])\n",
    "\n",
    "print(\"Looking for rows with mixed types in books_data then printing them.\")\n",
    "weird = (books_data[['ISBN']].applymap(type) != books_data[['ISBN']].iloc[0].apply(type)).any(axis=1)\n",
    "print(books_data[weird])\n",
    "\n",
    "# Look for mixed types in books_data\n",
    "print(\"Looking for rows with mixed types in books_data then printing them.\")\n",
    "weird = (books_data[['Book-Title']].applymap(type) != books_data[['Book-Title']].iloc[0].apply(type)).any(axis=1)\n",
    "print(books_data[weird])\n"
   ]
  },
  {
   "attachments": {},
   "cell_type": "markdown",
   "metadata": {},
   "source": [
    "# Investigating the data\n",
    "The data seems to have been cleaned here. Now we need to look for outliers, strange values and understanding the data better. The section below is for that. We are going to understand how the data is distributed and what are the values that are present in the data. Also in what way Collaborative filtering can be used to recommend books to users. "
   ]
  },
  {
   "cell_type": "code",
   "execution_count": null,
   "metadata": {},
   "outputs": [],
   "source": []
  }
 ],
 "metadata": {
  "kernelspec": {
   "display_name": "Python 3",
   "language": "python",
   "name": "python3"
  },
  "language_info": {
   "codemirror_mode": {
    "name": "ipython",
    "version": 3
   },
   "file_extension": ".py",
   "mimetype": "text/x-python",
   "name": "python",
   "nbconvert_exporter": "python",
   "pygments_lexer": "ipython3",
   "version": "3.10.2"
  },
  "orig_nbformat": 4
 },
 "nbformat": 4,
 "nbformat_minor": 2
}
