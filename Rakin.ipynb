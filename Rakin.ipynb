{
 "cells": [
  {
   "attachments": {},
   "cell_type": "markdown",
   "metadata": {},
   "source": [
    "# Getting started\n",
    "This notebook is for me, Rakin, just to analyze the data. I avoided creating a .py file for this because I wanted to be able to use the notebook to write my thoughts and ideas. I will try to keep this notebook as clean as possible for anyone to jump in add their ideas to the project."
   ]
  },
  {
   "attachments": {},
   "cell_type": "markdown",
   "metadata": {},
   "source": [
    "## Read & Clean the data \n",
    "Here the Data will be stored in Pandas checked for outliers, strange values etc before starting the preprocessing"
   ]
  },
  {
   "cell_type": "code",
   "execution_count": 1,
   "metadata": {},
   "outputs": [
    {
     "name": "stdout",
     "output_type": "stream",
     "text": [
      "Reading Books Data...\n"
     ]
    },
    {
     "name": "stderr",
     "output_type": "stream",
     "text": [
      "C:\\Users\\rakin\\AppData\\Local\\Temp\\ipykernel_11504\\61743356.py:13: DtypeWarning: Columns (3) have mixed types. Specify dtype option on import or set low_memory=False.\n",
      "  books_data = pd.read_csv(\"Data/BX-Books.csv\", sep=';', on_bad_lines='skip', encoding=\"latin\")\n"
     ]
    },
    {
     "name": "stdout",
     "output_type": "stream",
     "text": [
      "Readting Users Data...\n",
      "Reading Ratings Data...\n",
      "Done!\n"
     ]
    }
   ],
   "source": [
    "# Imports\n",
    "import pandas as pd\n",
    "import numpy as np\n",
    "import matplotlib.pyplot as plt\n",
    "import seaborn as sns\n",
    "import os\n",
    "import sys\n",
    "import random\n",
    "import math\n",
    "\n",
    "# Convert the Data CSV files to pandas\n",
    "print(\"Reading Books Data...\")\n",
    "books_data = pd.read_csv(\"Data/BX-Books.csv\", sep=';', on_bad_lines='skip', encoding=\"latin\")\n",
    "print(\"Readting Users Data...\")\n",
    "users_data = pd.read_csv(\"Data/BX-Users.csv\", sep=';', on_bad_lines='skip', encoding=\"latin\")\n",
    "print(\"Reading Ratings Data...\")\n",
    "ratings_data = pd.read_csv(\"Data/BX-Book-Ratings.csv\", sep=';', on_bad_lines='skip', encoding=\"latin\")\n",
    "print(\"Done!\")"
   ]
  },
  {
   "attachments": {},
   "cell_type": "markdown",
   "metadata": {},
   "source": [
    "### Finding which columns needs to be cleaned\n",
    "I found out that columns has mixed types in books_data. This is explored below"
   ]
  },
  {
   "cell_type": "code",
   "execution_count": 2,
   "metadata": {},
   "outputs": [
    {
     "name": "stdout",
     "output_type": "stream",
     "text": [
      "The following has mixed types.\n",
      "Book-Author\n",
      "Year-Of-Publication\n",
      "Publisher\n",
      "Image-URL-L\n"
     ]
    }
   ],
   "source": [
    "# Find out which columns have mixed types\n",
    "print(\"The following has mixed types.\")\n",
    "for col in books_data.columns:\n",
    "    weird = (books_data[[col]].applymap(type) != books_data[[col]].iloc[0].apply(type)).any(axis=1)\n",
    "    if len (books_data[weird]) > 0:\n",
    "        print(col)\n"
   ]
  },
  {
   "cell_type": "code",
   "execution_count": 3,
   "metadata": {},
   "outputs": [
    {
     "name": "stdout",
     "output_type": "stream",
     "text": [
      "Looking for rows with mixed types in Book-Author then printing them.\n",
      "              ISBN                                         Book-Title  \\\n",
      "187689  9627982032  The Credit Suisse Guide to Managing Your Perso...   \n",
      "\n",
      "       Book-Author Year-Of-Publication                       Publisher  \\\n",
      "187689         NaN                1995  Edinburgh Financial Publishing   \n",
      "\n",
      "                                              Image-URL-S  \\\n",
      "187689  http://images.amazon.com/images/P/9627982032.0...   \n",
      "\n",
      "                                              Image-URL-M  \\\n",
      "187689  http://images.amazon.com/images/P/9627982032.0...   \n",
      "\n",
      "                                              Image-URL-L  \n",
      "187689  http://images.amazon.com/images/P/9627982032.0...  \n",
      "Done!\n"
     ]
    }
   ],
   "source": [
    "# Looking at the mixed types at Book-Author\n",
    "print(\"Looking for rows with mixed types in Book-Author then printing them.\")\n",
    "weird = (books_data[['Book-Author']].applymap(type) != books_data[['Book-Author']].iloc[0].apply(type)).any(axis=1)\n",
    "print(books_data[weird])\n",
    "print(\"Done!\")\n",
    "\n",
    "# Convert Nan to string value valled \"Unknown\"\n",
    "books_data['Book-Author'] = books_data['Book-Author'].fillna('Unknown')\n",
    "\n",
    "#Convert the column Book-Author to have the type String\n",
    "books_data['Book-Author'] = books_data['Book-Author'].astype(str)"
   ]
  },
  {
   "attachments": {},
   "cell_type": "markdown",
   "metadata": {},
   "source": [
    "### Cleaning Publication columns"
   ]
  },
  {
   "cell_type": "code",
   "execution_count": 15,
   "metadata": {},
   "outputs": [
    {
     "name": "stdout",
     "output_type": "stream",
     "text": [
      "Find string values in column Year-Of-Publication and replace them with 0.\n",
      "How many rows have 0 in Year-Of-Publication?\n",
      "4621\n",
      "Convert the Year-Of-Publication column to int.\n",
      "Done!\n"
     ]
    }
   ],
   "source": [
    "# Clean the year of publication column\n",
    "print(\"Find string values in column Year-Of-Publication and replace them with 0.\")\n",
    "books_data['Year-Of-Publication'] = books_data['Year-Of-Publication'].replace(['DK Publishing Inc', 'Gallimard'], 0)\n",
    "print(\"How many rows have 0 in Year-Of-Publication?\")\n",
    "print(books_data[books_data['Year-Of-Publication'] == 0].shape[0])\n",
    "\n",
    "# Convert the Year-Of-Publication column to int\n",
    "print(\"Convert the Year-Of-Publication column to int.\")\n",
    "books_data['Year-Of-Publication'].astype(int)\n",
    "print(\"Done!\")\n"
   ]
  },
  {
   "cell_type": "code",
   "execution_count": 5,
   "metadata": {},
   "outputs": [
    {
     "name": "stdout",
     "output_type": "stream",
     "text": [
      "Looking for rows with mixed types in Publisher then printing them.\n",
      "Empty DataFrame\n",
      "Columns: [ISBN, Book-Title, Book-Author, Year-Of-Publication, Publisher, Image-URL-S, Image-URL-M, Image-URL-L]\n",
      "Index: []\n",
      "Done!\n"
     ]
    }
   ],
   "source": [
    "# Find the mixed types in the column Publisher\n",
    "\n",
    "# Convert Nan to string value valled \"Unknown\"\n",
    "books_data['Publisher'] = books_data['Publisher'].fillna('Unknown')\n",
    "\n",
    "# Look at the mixed types in the column Publisher\n",
    "print(\"Looking for rows with mixed types in Publisher then printing them.\")\n",
    "weird = (books_data[['Publisher']].applymap(type) != books_data[['Publisher']].iloc[0].apply(type)).any(axis=1)\n",
    "print(books_data[weird])\n",
    "\n",
    "# Convert the Publisher column to have the type String\n",
    "books_data['Publisher'] = books_data['Publisher'].astype(str)\n",
    "print(\"Done!\")\n"
   ]
  },
  {
   "attachments": {},
   "cell_type": "markdown",
   "metadata": {},
   "source": [
    "### Cleaning image_url columns"
   ]
  },
  {
   "cell_type": "code",
   "execution_count": 6,
   "metadata": {},
   "outputs": [
    {
     "name": "stdout",
     "output_type": "stream",
     "text": [
      "Looking for rows with mixed types in Image-URL-L then printing them.\n",
      "Empty DataFrame\n",
      "Columns: [ISBN, Book-Title, Book-Author, Year-Of-Publication, Publisher, Image-URL-S, Image-URL-M, Image-URL-L]\n",
      "Index: []\n",
      "Done!\n"
     ]
    }
   ],
   "source": [
    "# Convert Nan to string value valled \"Unknown\" in Image-URL-L\n",
    "books_data['Image-URL-L'] = books_data['Image-URL-L'].fillna('Unknown')\n",
    "\n",
    "# Look for mixed types in Image-URL-L\n",
    "print(\"Looking for rows with mixed types in Image-URL-L then printing them.\")\n",
    "weird = (books_data[['Image-URL-L']].applymap(type) != books_data[['Image-URL-L']].iloc[0].apply(type)).any(axis=1)\n",
    "print(books_data[weird])\n",
    "\n",
    "# Convert the column Image-URL-L to have the type String\n",
    "books_data['Image-URL-L'] = books_data['Image-URL-L'].astype(str)\n",
    "print(\"Done!\")\n"
   ]
  },
  {
   "attachments": {},
   "cell_type": "markdown",
   "metadata": {},
   "source": [
    "### Checking if everything is now correct in the books_data"
   ]
  },
  {
   "cell_type": "code",
   "execution_count": 18,
   "metadata": {},
   "outputs": [
    {
     "name": "stdout",
     "output_type": "stream",
     "text": [
      "Objects to other types...\n",
      "Done!\n"
     ]
    },
    {
     "data": {
      "text/plain": [
       "ISBN                   string\n",
       "Book-Title             string\n",
       "Book-Author            string\n",
       "Year-Of-Publication     int32\n",
       "Publisher              string\n",
       "Image-URL-S            string\n",
       "Image-URL-M            string\n",
       "Image-URL-L            string\n",
       "dtype: object"
      ]
     },
     "execution_count": 18,
     "metadata": {},
     "output_type": "execute_result"
    }
   ],
   "source": [
    "books_data.dtypes\n",
    "# Find out which columns have mixed types\n",
    "# Convert ISBN to int\n",
    "print(\"Objects to other types...\")\n",
    "books_data['ISBN'] = books_data['ISBN'].astype('string')\n",
    "books_data['Book-Title'] = books_data['ISBN'].astype('string')\n",
    "books_data['Book-Author'] = books_data['ISBN'].astype('string''')\n",
    "books_data['Publisher'] = books_data['ISBN'].astype('string')\n",
    "books_data['Year-Of-Publication'] = books_data['Year-Of-Publication'].astype(int)\n",
    "books_data['Image-URL-S'] = books_data['ISBN'].astype('string')\n",
    "books_data['Image-URL-M'] = books_data['ISBN'].astype('string')\n",
    "books_data['Image-URL-L'] = books_data['ISBN'].astype('string')\n",
    "print(\"Done!\")\n",
    "\n",
    "books_data.dtypes\n"
   ]
  },
  {
   "cell_type": "code",
   "execution_count": 20,
   "metadata": {},
   "outputs": [
    {
     "name": "stdout",
     "output_type": "stream",
     "text": [
      "Looking for rows with mixed types in users_data then printing them.\n",
      "Empty DataFrame\n",
      "Columns: [User-ID, Location, Age]\n",
      "Index: []\n",
      "Looking for rows with mixed types in books_data then printing them.\n",
      "Empty DataFrame\n",
      "Columns: [ISBN, Book-Title, Book-Author, Year-Of-Publication, Publisher, Image-URL-S, Image-URL-M, Image-URL-L]\n",
      "Index: []\n",
      "Looking for rows with mixed types in books_data then printing them.\n",
      "Empty DataFrame\n",
      "Columns: [ISBN, Book-Title, Book-Author, Year-Of-Publication, Publisher, Image-URL-S, Image-URL-M, Image-URL-L]\n",
      "Index: []\n"
     ]
    }
   ],
   "source": [
    "# Look for mixed types in users_data and books_data\n",
    "print(\"Looking for rows with mixed types in users_data then printing them.\")\n",
    "weird = (users_data[['User-ID']].applymap(type) != users_data[['User-ID']].iloc[0].apply(type)).any(axis=1)\n",
    "print(users_data[weird])\n",
    "\n",
    "print(\"Looking for rows with mixed types in books_data then printing them.\")\n",
    "weird = (books_data[['ISBN']].applymap(type) != books_data[['ISBN']].iloc[0].apply(type)).any(axis=1)\n",
    "print(books_data[weird])\n",
    "\n",
    "# Look for mixed types in books_data\n",
    "print(\"Looking for rows with mixed types in books_data then printing them.\")\n",
    "weird = (books_data[['Book-Title']].applymap(type) != books_data[['Book-Title']].iloc[0].apply(type)).any(axis=1)\n",
    "print(books_data[weird])\n"
   ]
  },
  {
   "attachments": {},
   "cell_type": "markdown",
   "metadata": {},
   "source": [
    "## Investigating the data\n",
    "The data seems to have been cleaned here. Now we need to look for outliers, strange values and understanding the data better. The section below is for that. We are going to understand how the data is distributed and what are the values that are present in the data. Also in what way Collaborative filtering can be used to recommend books to users. "
   ]
  }
 ],
 "metadata": {
  "kernelspec": {
   "display_name": "Python 3",
   "language": "python",
   "name": "python3"
  },
  "language_info": {
   "codemirror_mode": {
    "name": "ipython",
    "version": 3
   },
   "file_extension": ".py",
   "mimetype": "text/x-python",
   "name": "python",
   "nbconvert_exporter": "python",
   "pygments_lexer": "ipython3",
   "version": "3.10.11"
  },
  "orig_nbformat": 4
 },
 "nbformat": 4,
 "nbformat_minor": 2
}
